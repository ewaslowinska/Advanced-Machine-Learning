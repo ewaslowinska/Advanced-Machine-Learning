{
 "cells": [
  {
   "cell_type": "markdown",
   "id": "badbdfd3-e064-4450-8011-8a732c7f33bc",
   "metadata": {},
   "source": [
    "### K-Rater: Unveiling Korean Drama Ratings through Review Analysis"
   ]
  },
  {
   "cell_type": "markdown",
   "id": "e33e208b-56ac-4c9b-847d-8ff8b8fca4fd",
   "metadata": {},
   "source": [
    "K-Rater is a machine learning model that predicts user scores for Korean dramas based on their written reviews. Using the power of natural language processing and sentiment analysis, the project seeks to delve into the word of cinematic experience and arising emotions translated into numerical ratings."
   ]
  },
  {
   "cell_type": "code",
   "execution_count": 1,
   "id": "e68425b6-eba9-4a2b-8e7d-7e674ee62a9a",
   "metadata": {
    "tags": []
   },
   "outputs": [],
   "source": [
    "# Import all the necessary modules\n",
    "from sklearn.model_selection import train_test_split\n",
    "from sklearn.metrics import *\n",
    "from IPython.display import display\n",
    "import matplotlib.pyplot as plt\n",
    "import numpy as np\n",
    "import pandas as pd\n",
    "import matplotlib.pyplot as plt\n",
    "import torch\n",
    "import torchtext\n",
    "from torchtext.data import *\n",
    "import torch.nn as nn\n",
    "from tqdm import tqdm"
   ]
  },
  {
   "cell_type": "code",
   "execution_count": 2,
   "id": "e9eeec5c-dd0d-4f22-82e8-72a0d49ba017",
   "metadata": {
    "tags": []
   },
   "outputs": [
    {
     "data": {
      "text/html": [
       "<div>\n",
       "<style scoped>\n",
       "    .dataframe tbody tr th:only-of-type {\n",
       "        vertical-align: middle;\n",
       "    }\n",
       "\n",
       "    .dataframe tbody tr th {\n",
       "        vertical-align: top;\n",
       "    }\n",
       "\n",
       "    .dataframe thead th {\n",
       "        text-align: right;\n",
       "    }\n",
       "</style>\n",
       "<table border=\"1\" class=\"dataframe\">\n",
       "  <thead>\n",
       "    <tr style=\"text-align: right;\">\n",
       "      <th></th>\n",
       "      <th>user_id</th>\n",
       "      <th>title</th>\n",
       "      <th>story_score</th>\n",
       "      <th>acting_cast_score</th>\n",
       "      <th>music_score</th>\n",
       "      <th>rewatch_value_score</th>\n",
       "      <th>overall_score</th>\n",
       "      <th>review_text</th>\n",
       "      <th>ep_watched</th>\n",
       "      <th>n_helpful</th>\n",
       "    </tr>\n",
       "  </thead>\n",
       "  <tbody>\n",
       "    <tr>\n",
       "      <th>0</th>\n",
       "      <td>c8ffdab3f2a338eeb54b265598dbbb55</td>\n",
       "      <td>Sing My Crush</td>\n",
       "      <td>9.0</td>\n",
       "      <td>9.0</td>\n",
       "      <td>10.0</td>\n",
       "      <td>9.0</td>\n",
       "      <td>9.0</td>\n",
       "      <td>the Best Song from my Crush  This will now ran...</td>\n",
       "      <td>8 of 8 episodes seen</td>\n",
       "      <td>23</td>\n",
       "    </tr>\n",
       "    <tr>\n",
       "      <th>1</th>\n",
       "      <td>c8ffdab3f2a338eeb54b265598dbbb55</td>\n",
       "      <td>Happy Merry Ending</td>\n",
       "      <td>5.0</td>\n",
       "      <td>7.0</td>\n",
       "      <td>9.0</td>\n",
       "      <td>4.0</td>\n",
       "      <td>6.5</td>\n",
       "      <td>I'm Happy and Merry That it Ended Quickly The ...</td>\n",
       "      <td>8 of 8 episodes seen</td>\n",
       "      <td>31</td>\n",
       "    </tr>\n",
       "    <tr>\n",
       "      <th>2</th>\n",
       "      <td>c8ffdab3f2a338eeb54b265598dbbb55</td>\n",
       "      <td>Duty After School: Part 2</td>\n",
       "      <td>4.0</td>\n",
       "      <td>9.0</td>\n",
       "      <td>3.0</td>\n",
       "      <td>1.0</td>\n",
       "      <td>4.0</td>\n",
       "      <td>This PART 2 Should Never Have Happened  If you...</td>\n",
       "      <td>4 of 4 episodes seen</td>\n",
       "      <td>121</td>\n",
       "    </tr>\n",
       "  </tbody>\n",
       "</table>\n",
       "</div>"
      ],
      "text/plain": [
       "                            user_id                      title  story_score  \\\n",
       "0  c8ffdab3f2a338eeb54b265598dbbb55              Sing My Crush          9.0   \n",
       "1  c8ffdab3f2a338eeb54b265598dbbb55         Happy Merry Ending          5.0   \n",
       "2  c8ffdab3f2a338eeb54b265598dbbb55  Duty After School: Part 2          4.0   \n",
       "\n",
       "   acting_cast_score  music_score  rewatch_value_score  overall_score  \\\n",
       "0                9.0         10.0                  9.0            9.0   \n",
       "1                7.0          9.0                  4.0            6.5   \n",
       "2                9.0          3.0                  1.0            4.0   \n",
       "\n",
       "                                         review_text            ep_watched  \\\n",
       "0  the Best Song from my Crush  This will now ran...  8 of 8 episodes seen   \n",
       "1  I'm Happy and Merry That it Ended Quickly The ...  8 of 8 episodes seen   \n",
       "2  This PART 2 Should Never Have Happened  If you...  4 of 4 episodes seen   \n",
       "\n",
       "   n_helpful  \n",
       "0         23  \n",
       "1         31  \n",
       "2        121  "
      ]
     },
     "execution_count": 2,
     "metadata": {},
     "output_type": "execute_result"
    }
   ],
   "source": [
    "# Look at the data\n",
    "data = pd.read_csv('reviews.csv')\n",
    "data.head(3)"
   ]
  },
  {
   "cell_type": "code",
   "execution_count": 3,
   "id": "e1830444-c00d-4e66-8247-2419cbabb7e4",
   "metadata": {
    "tags": []
   },
   "outputs": [
    {
     "data": {
      "text/html": [
       "<div>\n",
       "<style scoped>\n",
       "    .dataframe tbody tr th:only-of-type {\n",
       "        vertical-align: middle;\n",
       "    }\n",
       "\n",
       "    .dataframe tbody tr th {\n",
       "        vertical-align: top;\n",
       "    }\n",
       "\n",
       "    .dataframe thead th {\n",
       "        text-align: right;\n",
       "    }\n",
       "</style>\n",
       "<table border=\"1\" class=\"dataframe\">\n",
       "  <thead>\n",
       "    <tr style=\"text-align: right;\">\n",
       "      <th></th>\n",
       "      <th>overall_score</th>\n",
       "      <th>review_text</th>\n",
       "    </tr>\n",
       "  </thead>\n",
       "  <tbody>\n",
       "    <tr>\n",
       "      <th>0</th>\n",
       "      <td>9.0</td>\n",
       "      <td>the Best Song from my Crush  This will now ran...</td>\n",
       "    </tr>\n",
       "    <tr>\n",
       "      <th>1</th>\n",
       "      <td>6.5</td>\n",
       "      <td>I'm Happy and Merry That it Ended Quickly The ...</td>\n",
       "    </tr>\n",
       "    <tr>\n",
       "      <th>2</th>\n",
       "      <td>4.0</td>\n",
       "      <td>This PART 2 Should Never Have Happened  If you...</td>\n",
       "    </tr>\n",
       "  </tbody>\n",
       "</table>\n",
       "</div>"
      ],
      "text/plain": [
       "   overall_score                                        review_text\n",
       "0            9.0  the Best Song from my Crush  This will now ran...\n",
       "1            6.5  I'm Happy and Merry That it Ended Quickly The ...\n",
       "2            4.0  This PART 2 Should Never Have Happened  If you..."
      ]
     },
     "execution_count": 3,
     "metadata": {},
     "output_type": "execute_result"
    }
   ],
   "source": [
    "# Extract the necessary columns\n",
    "model_data = data[['overall_score', 'review_text']]\n",
    "model_data.head(3)"
   ]
  },
  {
   "cell_type": "code",
   "execution_count": 4,
   "id": "d188ab3c-7052-4594-a131-334329cb526d",
   "metadata": {
    "tags": []
   },
   "outputs": [],
   "source": [
    "# Clean the data from empty cells\n",
    "cleaned = model_data.dropna()"
   ]
  },
  {
   "cell_type": "code",
   "execution_count": 5,
   "id": "5d71d2b1",
   "metadata": {},
   "outputs": [
    {
     "data": {
      "text/plain": [
       "Text(0.5, 1.0, 'Score Distribution')"
      ]
     },
     "execution_count": 5,
     "metadata": {},
     "output_type": "execute_result"
    },
    {
     "data": {
      "image/png": "[encoded data removed]",
      "text/plain": [
       "<Figure size 640x480 with 1 Axes>"
      ]
     },
     "metadata": {},
     "output_type": "display_data"
    }
   ],
   "source": [
    "# Check the score distribution\n",
    "score_counts = cleaned['overall_score'].value_counts()\n",
    "plt.bar(score_counts.index, score_counts.values, width=0.5, align='center', edgecolor='black')\n",
    "xticks_values = np.arange(1, 10.5, 0.5)\n",
    "plt.xticks(xticks_values)\n",
    "plt.xlabel('Scores')\n",
    "plt.ylabel('Frequency')\n",
    "plt.title('Score Distribution')"
   ]
  },
  {
   "cell_type": "code",
   "execution_count": 6,
   "id": "2f8eded4",
   "metadata": {},
   "outputs": [],
   "source": [
    "# Create a weight tensor\n",
    "values = dict(cleaned['overall_score'].value_counts())\n",
    "weights = []\n",
    "for x, y in values.items():\n",
    "    weights.append(1/y)\n",
    "tensor = torch.tensor(weights, dtype=torch.float32)"
   ]
  },
  {
   "cell_type": "code",
   "execution_count": 7,
   "id": "fb6b7ed5-af20-4317-897d-23ae9917a10e",
   "metadata": {
    "tags": []
   },
   "outputs": [],
   "source": [
    "# Split the data into train, validation and test\n",
    "X_train, X_temp, y_train, y_temp = train_test_split(cleaned['review_text'], cleaned['overall_score'], test_size=0.3, stratify=cleaned['overall_score'], random_state=42)\n",
    "X_val, X_test, y_val, y_test = train_test_split(X_temp, y_temp, test_size=0.5, stratify=y_temp, random_state=42)"
   ]
  },
  {
   "cell_type": "code",
   "execution_count": 8,
   "id": "9142eeca-4789-40b6-9702-5722c07f20aa",
   "metadata": {
    "tags": []
   },
   "outputs": [],
   "source": [
    "# Save the new data to csv files\n",
    "train = pd.DataFrame(list(zip(X_train, y_train)),\n",
    "               columns =['review', 'score'])\n",
    "train.to_csv('train.csv', index=False)\n",
    "validation = pd.DataFrame(list(zip(X_val, y_val)),\n",
    "               columns =['review', 'score'])\n",
    "validation.to_csv('validation.csv', index=False)\n",
    "test = pd.DataFrame(list(zip(X_test, y_test)),\n",
    "               columns =['review', 'score'])\n",
    "test.to_csv('test.csv', index=False)"
   ]
  },
  {
   "cell_type": "code",
   "execution_count": 9,
   "id": "de6a9a13-42eb-45e2-986c-3733a3511852",
   "metadata": {
    "tags": []
   },
   "outputs": [],
   "source": [
    "# Create a dataloader\n",
    "def dataloader(path, batch_size, device):\n",
    "    review = torchtext.data.Field(tokenize=lambda x: x.split(), lower=True, stop_words=[\"i\", \"me\", \"my\", \"myself\", \"we\", \"our\", \"ours\", \"ourselves\", \"you\", \"your\", \"yours\", \"yourself\", \"yourselves\", \"he\", \"him\", \"his\", \"himself\", \"she\", \"her\", \"hers\", \"herself\", \"it\", \"its\", \"itself\", \"they\", \"them\", \"their\", \"theirs\", \"themselves\", \"what\", \"which\", \"who\", \"whom\", \"this\", \"that\", \"these\", \"those\", \"am\", \"is\", \"are\", \"was\", \"were\", \"be\", \"been\", \"being\", \"have\", \"has\", \"had\", \"having\", \"do\", \"does\", \"did\", \"doing\", \"a\", \"an\", \"the\", \"and\", \"but\", \"if\", \"or\", \"because\", \"as\", \"until\", \"while\", \"of\", \"at\", \"by\", \"for\", \"with\", \"about\", \"against\", \"between\", \"into\", \"through\", \"during\", \"before\", \"after\", \"above\", \"below\", \"to\", \"from\", \"up\", \"down\", \"in\", \"out\", \"on\", \"off\", \"over\", \"under\", \"again\", \"further\", \"then\", \"once\", \"here\", \"there\", \"when\", \"where\", \"why\", \"how\", \"all\", \"any\", \"both\", \"each\", \"few\", \"more\", \"most\", \"other\", \"some\", \"such\", \"only\", \"own\", \"same\", \"so\", \"than\", \"too\", \"very\", \"s\", \"can\", \"will\", \"just\", \"should\", \"now\"])\n",
    "    score = torchtext.data.Field(sequential=False, unk_token=None)\n",
    "    train_dataset, val_dataset, test_dataset = torchtext.data.TabularDataset.splits(path=path,\n",
    "                                                                       train='train.csv',\n",
    "                                                                       validation='validation.csv',\n",
    "                                                                       test='test.csv',\n",
    "                                                                       format='csv',\n",
    "                                    fields=[('review', review), ('score', score)],\n",
    "                                                                      skip_header=True)\n",
    "    train_iterator = BucketIterator(train_dataset, batch_size=batch_size, device=device, shuffle=True)\n",
    "    val_iterator = BucketIterator(val_dataset, batch_size=batch_size, device=device, shuffle=True)\n",
    "    test_iterator = BucketIterator(test_dataset, batch_size=batch_size, device=device, shuffle=True)\n",
    "    review.build_vocab(train_dataset, val_dataset, test_dataset)\n",
    "    score.build_vocab(train_dataset, val_dataset, test_dataset)\n",
    "    return review.vocab, score.vocab, train_iterator, val_iterator, test_iterator\n",
    "\n",
    "device = torch.device('cuda' if torch.cuda.is_available() else 'cpu')\n",
    "path = \"./\"\n",
    "batch_size = 8\n",
    "review_vocab, score_vocab, train_iterator, val_iterator, test_iterator = dataloader(path, batch_size, device)"
   ]
  },
  {
   "cell_type": "code",
   "execution_count": 10,
   "id": "191e0aeb-7851-4a3e-97e6-9038fc21c9a6",
   "metadata": {
    "tags": []
   },
   "outputs": [],
   "source": [
    "# Define the model\n",
    "class BiLSTM(nn.Module):\n",
    "    def __init__(self, num_embeddings, embedding_dim, hidden_size, output_dim):\n",
    "        super(BiLSTM, self).__init__()\n",
    "        self.embeddings = nn.Embedding(num_embeddings, embedding_dim)\n",
    "        self.rnn = nn.LSTM(embedding_dim, hidden_size, batch_first=True, bidirectional=True)\n",
    "        self.classifier = nn.Linear(hidden_size * 2, output_dim)\n",
    "        self.dropout = nn.Dropout(p=0.3)\n",
    "        \n",
    "    def forward(self, review):\n",
    "        texts = review.permute(1, 0)\n",
    "        reviews_embeddings = self.embeddings(texts)\n",
    "        processed, (_, _) = self.rnn(reviews_embeddings)\n",
    "        drop_out = self.dropout(processed)\n",
    "        predictions = self.classifier(drop_out)\n",
    "        return predictions"
   ]
  },
  {
   "cell_type": "code",
   "execution_count": 11,
   "id": "1c53fefd-7c1d-4edc-b3c6-dacec81febc0",
   "metadata": {
    "tags": []
   },
   "outputs": [
    {
     "ename": "RuntimeError",
     "evalue": "cuDNN version incompatibility: PyTorch was compiled  against (8, 9, 2) but found runtime version (8, 2, 2). PyTorch already comes bundled with cuDNN. One option to resolving this error is to ensure PyTorch can find the bundled cuDNN.Looks like your LD_LIBRARY_PATH contains incompatible version of cudnnPlease either remove it from the path or install cudnn (8, 9, 2)",
     "output_type": "error",
     "traceback": [
      "\u001b[0;31m---------------------------------------------------------------------------\u001b[0m",
      "\u001b[0;31mRuntimeError\u001b[0m                              Traceback (most recent call last)",
      "Cell \u001b[0;32mIn[11], line 4\u001b[0m\n\u001b[1;32m      2\u001b[0m loss_function \u001b[39m=\u001b[39m nn\u001b[39m.\u001b[39mCrossEntropyLoss(weight\u001b[39m=\u001b[39mtensor)\u001b[39m.\u001b[39mto(device)\n\u001b[1;32m      3\u001b[0m model \u001b[39m=\u001b[39m BiLSTM(\u001b[39mlen\u001b[39m(review_vocab), \u001b[39m256\u001b[39m, \u001b[39m512\u001b[39m, \u001b[39mlen\u001b[39m(score_vocab))\n\u001b[0;32m----> 4\u001b[0m model\u001b[39m.\u001b[39;49mto(device)\n\u001b[1;32m      5\u001b[0m optimizer \u001b[39m=\u001b[39m torch\u001b[39m.\u001b[39moptim\u001b[39m.\u001b[39mAdam(model\u001b[39m.\u001b[39mparameters(), lr\u001b[39m=\u001b[39m\u001b[39m0.1\u001b[39m)\n\u001b[1;32m      6\u001b[0m epochs \u001b[39m=\u001b[39m \u001b[39m50\u001b[39m\n",
      "File \u001b[0;32m/usr/local/lib64/python3.11/site-packages/torch/nn/modules/module.py:1160\u001b[0m, in \u001b[0;36mModule.to\u001b[0;34m(self, *args, **kwargs)\u001b[0m\n\u001b[1;32m   1156\u001b[0m         \u001b[39mreturn\u001b[39;00m t\u001b[39m.\u001b[39mto(device, dtype \u001b[39mif\u001b[39;00m t\u001b[39m.\u001b[39mis_floating_point() \u001b[39mor\u001b[39;00m t\u001b[39m.\u001b[39mis_complex() \u001b[39melse\u001b[39;00m \u001b[39mNone\u001b[39;00m,\n\u001b[1;32m   1157\u001b[0m                     non_blocking, memory_format\u001b[39m=\u001b[39mconvert_to_format)\n\u001b[1;32m   1158\u001b[0m     \u001b[39mreturn\u001b[39;00m t\u001b[39m.\u001b[39mto(device, dtype \u001b[39mif\u001b[39;00m t\u001b[39m.\u001b[39mis_floating_point() \u001b[39mor\u001b[39;00m t\u001b[39m.\u001b[39mis_complex() \u001b[39melse\u001b[39;00m \u001b[39mNone\u001b[39;00m, non_blocking)\n\u001b[0;32m-> 1160\u001b[0m \u001b[39mreturn\u001b[39;00m \u001b[39mself\u001b[39;49m\u001b[39m.\u001b[39;49m_apply(convert)\n",
      "File \u001b[0;32m/usr/local/lib64/python3.11/site-packages/torch/nn/modules/module.py:810\u001b[0m, in \u001b[0;36mModule._apply\u001b[0;34m(self, fn, recurse)\u001b[0m\n\u001b[1;32m    808\u001b[0m \u001b[39mif\u001b[39;00m recurse:\n\u001b[1;32m    809\u001b[0m     \u001b[39mfor\u001b[39;00m module \u001b[39min\u001b[39;00m \u001b[39mself\u001b[39m\u001b[39m.\u001b[39mchildren():\n\u001b[0;32m--> 810\u001b[0m         module\u001b[39m.\u001b[39;49m_apply(fn)\n\u001b[1;32m    812\u001b[0m \u001b[39mdef\u001b[39;00m \u001b[39mcompute_should_use_set_data\u001b[39m(tensor, tensor_applied):\n\u001b[1;32m    813\u001b[0m     \u001b[39mif\u001b[39;00m torch\u001b[39m.\u001b[39m_has_compatible_shallow_copy_type(tensor, tensor_applied):\n\u001b[1;32m    814\u001b[0m         \u001b[39m# If the new tensor has compatible tensor type as the existing tensor,\u001b[39;00m\n\u001b[1;32m    815\u001b[0m         \u001b[39m# the current behavior is to change the tensor in-place using `.data =`,\u001b[39;00m\n\u001b[0;32m   (...)\u001b[0m\n\u001b[1;32m    820\u001b[0m         \u001b[39m# global flag to let the user control whether they want the future\u001b[39;00m\n\u001b[1;32m    821\u001b[0m         \u001b[39m# behavior of overwriting the existing tensor or not.\u001b[39;00m\n",
      "File \u001b[0;32m/usr/local/lib64/python3.11/site-packages/torch/nn/modules/rnn.py:218\u001b[0m, in \u001b[0;36mRNNBase._apply\u001b[0;34m(self, fn, recurse)\u001b[0m\n\u001b[1;32m    213\u001b[0m ret \u001b[39m=\u001b[39m \u001b[39msuper\u001b[39m()\u001b[39m.\u001b[39m_apply(fn, recurse)\n\u001b[1;32m    215\u001b[0m \u001b[39m# Resets _flat_weights\u001b[39;00m\n\u001b[1;32m    216\u001b[0m \u001b[39m# Note: be v. careful before removing this, as 3rd party device types\u001b[39;00m\n\u001b[1;32m    217\u001b[0m \u001b[39m# likely rely on this behavior to properly .to() modules like LSTM.\u001b[39;00m\n\u001b[0;32m--> 218\u001b[0m \u001b[39mself\u001b[39;49m\u001b[39m.\u001b[39;49m_init_flat_weights()\n\u001b[1;32m    220\u001b[0m \u001b[39mreturn\u001b[39;00m ret\n",
      "File \u001b[0;32m/usr/local/lib64/python3.11/site-packages/torch/nn/modules/rnn.py:155\u001b[0m, in \u001b[0;36mRNNBase._init_flat_weights\u001b[0;34m(self)\u001b[0m\n\u001b[1;32m    151\u001b[0m \u001b[39mself\u001b[39m\u001b[39m.\u001b[39m_flat_weights \u001b[39m=\u001b[39m [\u001b[39mgetattr\u001b[39m(\u001b[39mself\u001b[39m, wn) \u001b[39mif\u001b[39;00m \u001b[39mhasattr\u001b[39m(\u001b[39mself\u001b[39m, wn) \u001b[39melse\u001b[39;00m \u001b[39mNone\u001b[39;00m\n\u001b[1;32m    152\u001b[0m                       \u001b[39mfor\u001b[39;00m wn \u001b[39min\u001b[39;00m \u001b[39mself\u001b[39m\u001b[39m.\u001b[39m_flat_weights_names]\n\u001b[1;32m    153\u001b[0m \u001b[39mself\u001b[39m\u001b[39m.\u001b[39m_flat_weight_refs \u001b[39m=\u001b[39m [weakref\u001b[39m.\u001b[39mref(w) \u001b[39mif\u001b[39;00m w \u001b[39mis\u001b[39;00m \u001b[39mnot\u001b[39;00m \u001b[39mNone\u001b[39;00m \u001b[39melse\u001b[39;00m \u001b[39mNone\u001b[39;00m\n\u001b[1;32m    154\u001b[0m                           \u001b[39mfor\u001b[39;00m w \u001b[39min\u001b[39;00m \u001b[39mself\u001b[39m\u001b[39m.\u001b[39m_flat_weights]\n\u001b[0;32m--> 155\u001b[0m \u001b[39mself\u001b[39;49m\u001b[39m.\u001b[39;49mflatten_parameters()\n",
      "File \u001b[0;32m/usr/local/lib64/python3.11/site-packages/torch/nn/modules/rnn.py:185\u001b[0m, in \u001b[0;36mRNNBase.flatten_parameters\u001b[0;34m(self)\u001b[0m\n\u001b[1;32m    181\u001b[0m dtype \u001b[39m=\u001b[39m first_fw\u001b[39m.\u001b[39mdtype\n\u001b[1;32m    182\u001b[0m \u001b[39mfor\u001b[39;00m fw \u001b[39min\u001b[39;00m \u001b[39mself\u001b[39m\u001b[39m.\u001b[39m_flat_weights:\n\u001b[1;32m    183\u001b[0m     \u001b[39mif\u001b[39;00m (\u001b[39mnot\u001b[39;00m \u001b[39misinstance\u001b[39m(fw\u001b[39m.\u001b[39mdata, Tensor) \u001b[39mor\u001b[39;00m \u001b[39mnot\u001b[39;00m (fw\u001b[39m.\u001b[39mdata\u001b[39m.\u001b[39mdtype \u001b[39m==\u001b[39m dtype) \u001b[39mor\u001b[39;00m\n\u001b[1;32m    184\u001b[0m             \u001b[39mnot\u001b[39;00m fw\u001b[39m.\u001b[39mdata\u001b[39m.\u001b[39mis_cuda \u001b[39mor\u001b[39;00m\n\u001b[0;32m--> 185\u001b[0m             \u001b[39mnot\u001b[39;00m torch\u001b[39m.\u001b[39;49mbackends\u001b[39m.\u001b[39;49mcudnn\u001b[39m.\u001b[39;49mis_acceptable(fw\u001b[39m.\u001b[39;49mdata)):\n\u001b[1;32m    186\u001b[0m         \u001b[39mreturn\u001b[39;00m\n\u001b[1;32m    188\u001b[0m \u001b[39m# If any parameters alias, we fall back to the slower, copying code path. This is\u001b[39;00m\n\u001b[1;32m    189\u001b[0m \u001b[39m# a sufficient check, because overlapping parameter buffers that don't completely\u001b[39;00m\n\u001b[1;32m    190\u001b[0m \u001b[39m# alias would break the assumptions of the uniqueness check in\u001b[39;00m\n\u001b[1;32m    191\u001b[0m \u001b[39m# Module.named_parameters().\u001b[39;00m\n",
      "File \u001b[0;32m/usr/local/lib64/python3.11/site-packages/torch/backends/cudnn/__init__.py:110\u001b[0m, in \u001b[0;36mis_acceptable\u001b[0;34m(tensor)\u001b[0m\n\u001b[1;32m    105\u001b[0m     warnings\u001b[39m.\u001b[39mwarn(\n\u001b[1;32m    106\u001b[0m         \u001b[39m\"\u001b[39m\u001b[39mPyTorch was compiled without cuDNN/MIOpen support. To use cuDNN/MIOpen, rebuild \u001b[39m\u001b[39m\"\u001b[39m\n\u001b[1;32m    107\u001b[0m         \u001b[39m\"\u001b[39m\u001b[39mPyTorch making sure the library is visible to the build system.\u001b[39m\u001b[39m\"\u001b[39m\n\u001b[1;32m    108\u001b[0m     )\n\u001b[1;32m    109\u001b[0m     \u001b[39mreturn\u001b[39;00m \u001b[39mFalse\u001b[39;00m\n\u001b[0;32m--> 110\u001b[0m \u001b[39mif\u001b[39;00m \u001b[39mnot\u001b[39;00m _init():\n\u001b[1;32m    111\u001b[0m     warnings\u001b[39m.\u001b[39mwarn(\n\u001b[1;32m    112\u001b[0m         \u001b[39m\"\u001b[39m\u001b[39mcuDNN/MIOpen library not found. Check your \u001b[39m\u001b[39m{libpath}\u001b[39;00m\u001b[39m\"\u001b[39m\u001b[39m.\u001b[39mformat(\n\u001b[1;32m    113\u001b[0m             libpath\u001b[39m=\u001b[39m{\u001b[39m\"\u001b[39m\u001b[39mdarwin\u001b[39m\u001b[39m\"\u001b[39m: \u001b[39m\"\u001b[39m\u001b[39mDYLD_LIBRARY_PATH\u001b[39m\u001b[39m\"\u001b[39m, \u001b[39m\"\u001b[39m\u001b[39mwin32\u001b[39m\u001b[39m\"\u001b[39m: \u001b[39m\"\u001b[39m\u001b[39mPATH\u001b[39m\u001b[39m\"\u001b[39m}\u001b[39m.\u001b[39mget(\n\u001b[0;32m   (...)\u001b[0m\n\u001b[1;32m    116\u001b[0m         )\n\u001b[1;32m    117\u001b[0m     )\n\u001b[1;32m    118\u001b[0m     \u001b[39mreturn\u001b[39;00m \u001b[39mFalse\u001b[39;00m\n",
      "File \u001b[0;32m/usr/local/lib64/python3.11/site-packages/torch/backends/cudnn/__init__.py:58\u001b[0m, in \u001b[0;36m_init\u001b[0;34m()\u001b[0m\n\u001b[1;32m     54\u001b[0m ld_library_path \u001b[39m=\u001b[39m os\u001b[39m.\u001b[39menviron\u001b[39m.\u001b[39mget(\u001b[39m\"\u001b[39m\u001b[39mLD_LIBRARY_PATH\u001b[39m\u001b[39m\"\u001b[39m, \u001b[39m\"\u001b[39m\u001b[39m\"\u001b[39m)\n\u001b[1;32m     55\u001b[0m \u001b[39mif\u001b[39;00m \u001b[39many\u001b[39m(\n\u001b[1;32m     56\u001b[0m     substring \u001b[39min\u001b[39;00m ld_library_path \u001b[39mfor\u001b[39;00m substring \u001b[39min\u001b[39;00m [\u001b[39m\"\u001b[39m\u001b[39mcuda\u001b[39m\u001b[39m\"\u001b[39m, \u001b[39m\"\u001b[39m\u001b[39mcudnn\u001b[39m\u001b[39m\"\u001b[39m]\n\u001b[1;32m     57\u001b[0m ):\n\u001b[0;32m---> 58\u001b[0m     \u001b[39mraise\u001b[39;00m \u001b[39mRuntimeError\u001b[39;00m(\n\u001b[1;32m     59\u001b[0m         \u001b[39mf\u001b[39m\u001b[39m\"\u001b[39m\u001b[39m{\u001b[39;00mbase_error_msg\u001b[39m}\u001b[39;00m\u001b[39m\"\u001b[39m\n\u001b[1;32m     60\u001b[0m         \u001b[39mf\u001b[39m\u001b[39m\"\u001b[39m\u001b[39mLooks like your LD_LIBRARY_PATH contains incompatible version of cudnn\u001b[39m\u001b[39m\"\u001b[39m\n\u001b[1;32m     61\u001b[0m         \u001b[39mf\u001b[39m\u001b[39m\"\u001b[39m\u001b[39mPlease either remove it from the path or install cudnn \u001b[39m\u001b[39m{\u001b[39;00mcompile_version\u001b[39m}\u001b[39;00m\u001b[39m\"\u001b[39m\n\u001b[1;32m     62\u001b[0m     )\n\u001b[1;32m     63\u001b[0m \u001b[39melse\u001b[39;00m:\n\u001b[1;32m     64\u001b[0m     \u001b[39mraise\u001b[39;00m \u001b[39mRuntimeError\u001b[39;00m(\n\u001b[1;32m     65\u001b[0m         \u001b[39mf\u001b[39m\u001b[39m\"\u001b[39m\u001b[39m{\u001b[39;00mbase_error_msg\u001b[39m}\u001b[39;00m\u001b[39m\"\u001b[39m\n\u001b[1;32m     66\u001b[0m         \u001b[39mf\u001b[39m\u001b[39m\"\u001b[39m\u001b[39mone possibility is that there is a \u001b[39m\u001b[39m\"\u001b[39m\n\u001b[1;32m     67\u001b[0m         \u001b[39mf\u001b[39m\u001b[39m\"\u001b[39m\u001b[39mconflicting cuDNN in LD_LIBRARY_PATH.\u001b[39m\u001b[39m\"\u001b[39m\n\u001b[1;32m     68\u001b[0m     )\n",
      "\u001b[0;31mRuntimeError\u001b[0m: cuDNN version incompatibility: PyTorch was compiled  against (8, 9, 2) but found runtime version (8, 2, 2). PyTorch already comes bundled with cuDNN. One option to resolving this error is to ensure PyTorch can find the bundled cuDNN.Looks like your LD_LIBRARY_PATH contains incompatible version of cudnnPlease either remove it from the path or install cudnn (8, 9, 2)"
     ]
    }
   ],
   "source": [
    "# Train the model\n",
    "loss_function = nn.CrossEntropyLoss(weight=tensor).to(device)\n",
    "model = BiLSTM(len(review_vocab), 256, 512, len(score_vocab))\n",
    "model.to(device)\n",
    "optimizer = torch.optim.Adam(model.parameters(), lr=0.1)\n",
    "epochs = 50\n",
    "\n",
    "best_val_loss = float('inf')\n",
    "patience = 10\n",
    "early_stopping_counter = 0\n",
    "\n",
    "for epoch in range(epochs):\n",
    "    model.train()\n",
    "    total_loss = 0\n",
    "    total_correct = 0\n",
    "    total_samples = 0\n",
    "    \n",
    "    progress_bar = tqdm(total=len(train_iterator), desc=f'Training epoch {epoch+1}/{epochs}', unit='batch')\n",
    "    \n",
    "    for batch in train_iterator:\n",
    "        review = batch.review\n",
    "        score = batch.score\n",
    "        \n",
    "        predictions = model(review)\n",
    "        predictions = predictions[:, -1, :]\n",
    "\n",
    "        batch_loss = loss_function(predictions, score)\n",
    "        optimizer.zero_grad()\n",
    "        batch_loss.backward()\n",
    "        optimizer.step()\n",
    "        \n",
    "        total_correct += torch.sum(torch.argmax(predictions, dim=1) == score).item()\n",
    "        total_samples += score.size(0)\n",
    "        \n",
    "        batch_acc = total_correct / total_samples\n",
    "        progress_bar.set_postfix(loss=batch_loss.item(), acc=batch_acc)\n",
    "        progress_bar.update(1)\n",
    "        \n",
    "    progress_bar.close()\n",
    "\n",
    "    model.eval()\n",
    "    val_loss = 0\n",
    "    val_total_correct = 0\n",
    "    val_total_samples = 0\n",
    "    all_predictions = []\n",
    "    all_scores = []\n",
    "    \n",
    "    with torch.no_grad():\n",
    "        progress_bar = tqdm(total=len(val_iterator), desc=f'Validation epoch {epoch+1}/{epochs}', unit='batch')\n",
    "        for val_batch in val_iterator:\n",
    "            val_review = val_batch.review\n",
    "            val_score = val_batch.score\n",
    "\n",
    "            val_predictions = model(val_review)\n",
    "            val_predictions = val_predictions[:, -1, :]\n",
    "\n",
    "            val_batch_loss = loss_function(val_predictions, val_score)\n",
    "            val_loss += val_batch_loss.item()\n",
    "            val_total_correct += torch.sum(torch.argmax(val_predictions, dim=1) == val_score).item()\n",
    "            val_total_samples += val_score.size(0)\n",
    "            val_batch_acc = val_total_correct / val_total_samples\n",
    "\n",
    "            all_predictions.extend(torch.argmax(val_predictions, dim=1).tolist())\n",
    "            all_scores.extend(val_score.tolist())\n",
    "\n",
    "            progress_bar.set_postfix(loss=val_batch_loss.item(), acc=val_batch_acc)\n",
    "            progress_bar.update(1)\n",
    "    \n",
    "    progress_bar.close()\n",
    "\n",
    "    val_loss /= val_total_samples\n",
    "    val_acc = val_total_correct / val_total_samples\n",
    "    \n",
    "    f1_micro = f1_score(all_scores, all_predictions, average='micro')\n",
    "    f1_macro = f1_score(all_scores, all_predictions, average='macro')\n",
    "    precision = precision_score(all_scores, all_predictions, average='weighted')\n",
    "    recall = recall_score(all_scores, all_predictions, average='weighted')\n",
    "    mae = mean_absolute_error(all_scores, all_predictions)\n",
    "    \n",
    "    table = { 'Metrics': ['Loss', 'Accuracy', 'Micro F1', 'Macro F1', 'Precision', 'Recall', 'MAE'], 'Values': [val_loss, val_acc, f1_micro, f1_macro, precision, recall, mae]}\n",
    "    df = pd.DataFrame(table)\n",
    "    display(df)\n",
    "\n",
    "    if val_loss < best_val_loss:\n",
    "        best_val_loss = val_loss\n",
    "        early_stopping_counter = 0\n",
    "    else:\n",
    "        early_stopping_counter += 1\n",
    "\n",
    "    if early_stopping_counter >= patience:\n",
    "        print('Early stopping triggered')\n",
    "        break"
   ]
  },
  {
   "cell_type": "code",
   "execution_count": null,
   "id": "9017eb0d-2baf-40e6-a289-c5b96304abc1",
   "metadata": {
    "tags": []
   },
   "outputs": [
    {
     "name": "stderr",
     "output_type": "stream",
     "text": [
      "/usr/local/lib64/python3.11/site-packages/sklearn/metrics/_classification.py:1469: UndefinedMetricWarning: Precision is ill-defined and being set to 0.0 in labels with no predicted samples. Use `zero_division` parameter to control this behavior.\n",
      "  _warn_prf(average, modifier, msg_start, len(result))\n"
     ]
    },
    {
     "data": {
      "text/html": [
       "<div>\n",
       "<style scoped>\n",
       "    .dataframe tbody tr th:only-of-type {\n",
       "        vertical-align: middle;\n",
       "    }\n",
       "\n",
       "    .dataframe tbody tr th {\n",
       "        vertical-align: top;\n",
       "    }\n",
       "\n",
       "    .dataframe thead th {\n",
       "        text-align: right;\n",
       "    }\n",
       "</style>\n",
       "<table border=\"1\" class=\"dataframe\">\n",
       "  <thead>\n",
       "    <tr style=\"text-align: right;\">\n",
       "      <th></th>\n",
       "      <th>Metrics</th>\n",
       "      <th>Values</th>\n",
       "    </tr>\n",
       "  </thead>\n",
       "  <tbody>\n",
       "    <tr>\n",
       "      <th>0</th>\n",
       "      <td>Accuracy</td>\n",
       "      <td>0.170119</td>\n",
       "    </tr>\n",
       "    <tr>\n",
       "      <th>1</th>\n",
       "      <td>Micro F1</td>\n",
       "      <td>0.170119</td>\n",
       "    </tr>\n",
       "    <tr>\n",
       "      <th>2</th>\n",
       "      <td>Macro F1</td>\n",
       "      <td>0.015304</td>\n",
       "    </tr>\n",
       "    <tr>\n",
       "      <th>3</th>\n",
       "      <td>Precision</td>\n",
       "      <td>0.028941</td>\n",
       "    </tr>\n",
       "    <tr>\n",
       "      <th>4</th>\n",
       "      <td>Recall</td>\n",
       "      <td>0.170119</td>\n",
       "    </tr>\n",
       "    <tr>\n",
       "      <th>5</th>\n",
       "      <td>MAE</td>\n",
       "      <td>4.582549</td>\n",
       "    </tr>\n",
       "  </tbody>\n",
       "</table>\n",
       "</div>"
      ],
      "text/plain": [
       "     Metrics    Values\n",
       "0   Accuracy  0.170119\n",
       "1   Micro F1  0.170119\n",
       "2   Macro F1  0.015304\n",
       "3  Precision  0.028941\n",
       "4     Recall  0.170119\n",
       "5        MAE  4.582549"
      ]
     },
     "metadata": {},
     "output_type": "display_data"
    }
   ],
   "source": [
    "# Test the model\n",
    "model.eval()\n",
    "total_correct=0\n",
    "total_samples=0\n",
    "\n",
    "all_predictions = []\n",
    "all_scores = []\n",
    "\n",
    "for batch in test_iterator:\n",
    "    review = batch.review\n",
    "    score = batch.score\n",
    "        \n",
    "    predictions = model(review)\n",
    "    predictions = predictions[:, -1, :]\n",
    "   \n",
    "    total_correct += torch.sum(torch.argmax(predictions, dim=1) == score).item()\n",
    "    total_samples += score.size(0)\n",
    "    \n",
    "    all_predictions.extend(torch.argmax(predictions, dim=1).tolist())\n",
    "    all_scores.extend(score.tolist())\n",
    "\n",
    "test_acc = total_correct / total_samples\n",
    "f1_micro = f1_score(all_scores, all_predictions, average='micro')\n",
    "f1_macro = f1_score(all_scores, all_predictions, average='macro')\n",
    "precision = precision_score(all_scores, all_predictions, average='weighted')\n",
    "recall = recall_score(all_scores, all_predictions, average='weighted')\n",
    "mae = mean_absolute_error(all_scores, all_predictions)\n",
    "\n",
    "table = { 'Metrics': ['Accuracy', 'Micro F1', 'Macro F1', 'Precision', 'Recall', 'MAE'], 'Values': [test_acc, f1_micro, f1_macro, precision, recall, mae]}\n",
    "df = pd.DataFrame(table)\n",
    "display(df)"
   ]
  }
 ],
 "metadata": {
  "kernelspec": {
   "display_name": "Python 3 (ipykernel)",
   "language": "python",
   "name": "python3"
  },
  "language_info": {
   "codemirror_mode": {
    "name": "ipython",
    "version": 3
   },
   "file_extension": ".py",
   "mimetype": "text/x-python",
   "name": "python",
   "nbconvert_exporter": "python",
   "pygments_lexer": "ipython3",
   "version": "3.11.6"
  }
 },
 "nbformat": 4,
 "nbformat_minor": 5
}
